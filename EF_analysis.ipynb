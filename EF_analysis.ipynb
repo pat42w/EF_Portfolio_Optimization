{
 "metadata": {
  "language_info": {
   "codemirror_mode": {
    "name": "ipython",
    "version": 3
   },
   "file_extension": ".py",
   "mimetype": "text/x-python",
   "name": "python",
   "nbconvert_exporter": "python",
   "pygments_lexer": "ipython3",
   "version": 3
  },
  "orig_nbformat": 2
 },
 "nbformat": 4,
 "nbformat_minor": 2,
 "cells": [
  {
   "cell_type": "code",
   "execution_count": null,
   "metadata": {},
   "outputs": [],
   "source": [
    "#Import the libraries\n",
    "import pandas as pd\n",
    "import numpy as np\n",
    "import requests\n",
    "import matplotlib.pyplot as plt\n",
    "import yfinance as yf\n",
    "import datetime\n",
    "import math\n",
    "from datetime import timedelta \n",
    "from pypfopt.efficient_frontier import EfficientFrontier\n",
    "from pypfopt import risk_models\n",
    "from pypfopt import expected_returns\n",
    "from pypfopt import plotting\n",
    "import cvxpy as cp\n",
    "#from joblib import Parallel, delayed\n",
    "#Import our homebrew functions\n",
    "import DatabaseMainFnc as dmf\n",
    "\n",
    "pd.options.mode.chained_assignment = None #silences setting with a copy warning\n",
    "pd.set_option('display.max_columns', 38)\n",
    "plt.rcParams['figure.figsize'] = [15, 10]\n"
   ]
  },
  {
   "cell_type": "code",
   "execution_count": null,
   "metadata": {},
   "outputs": [],
   "source": [
    "%%time\n",
    "#Load generated portfolio performance data\n",
    "df_EF_Nasdaq=pd.read_csv('Portfolio data/Nasdaq_EF_data.csv')\n",
    "df_EF_Nasdaq.head()"
   ]
  },
  {
   "cell_type": "code",
   "execution_count": null,
   "metadata": {},
   "outputs": [],
   "source": [
    "# Plot expected vs actual scatter\n",
    "import matplotlib.lines as mlines\n",
    "ax1 = df_test.plot.scatter(x='Expected_returns', y='actual_returns',alpha=0.5)\n",
    "\n",
    "#set the x=y line\n",
    "line = mlines.Line2D([0, 1], [0, 1], color='red')\n",
    "\n",
    "#draw axis lines\n",
    "plt.axhline(0,color='gray') # x = 0\n",
    "plt.axvline(0,color='gray') # y = 0\n",
    "transform = ax1.transAxes\n",
    "line.set_transform(transform)\n",
    "ax1.add_line(line)\n",
    "ax1.set_xlim([-1, 6])\n",
    "ax1.set_ylim([-1, 6])"
   ]
  }
 ]
}