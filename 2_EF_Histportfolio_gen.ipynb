{
 "cells": [
  {
   "cell_type": "markdown",
   "metadata": {},
   "source": [
    "This notebook is to generate hisoric data for us to analyse in a seperate notebook\n",
    "### To do:\n",
    "- Speed up the generator if possible"
   ]
  },
  {
   "cell_type": "code",
   "execution_count": null,
   "metadata": {},
   "outputs": [],
   "source": [
    "#Import the libraries\n",
    "import pandas as pd\n",
    "import numpy as np\n",
    "import requests\n",
    "import matplotlib.pyplot as plt\n",
    "import yfinance as yf\n",
    "import datetime\n",
    "import math\n",
    "from datetime import timedelta \n",
    "from pypfopt.efficient_frontier import EfficientFrontier\n",
    "from pypfopt import risk_models\n",
    "from pypfopt import expected_returns\n",
    "from pypfopt import plotting\n",
    "import cvxpy as cp\n",
    "#from joblib import Parallel, delayed\n",
    "#Import our homebrew functions\n",
    "import DatabaseMainFnc as dmf\n",
    "\n",
    "pd.options.mode.chained_assignment = None #silences setting with a copy warning\n",
    "pd.set_option('display.max_columns', 38)\n",
    "plt.rcParams['figure.figsize'] = [15, 10]\n"
   ]
  },
  {
   "source": [
    "## Load, Validate & convert our price data to EUR"
   ],
   "cell_type": "markdown",
   "metadata": {}
  },
  {
   "cell_type": "code",
   "execution_count": null,
   "metadata": {},
   "outputs": [],
   "source": [
    "%%time\n",
    "#Load database\n",
    "df_Nasdaq=dmf.connectAndLoadDb('NASDAQ')\n",
    "\n",
    "#Set date as index\n",
    "df_Nasdaq=df_Nasdaq.set_index(pd.DatetimeIndex(df_Nasdaq['Date'].values))\n",
    "df_Nasdaq.drop(columns=['Date'],axis=1, inplace=True)\n",
    "\n",
    "#Validate the data \n",
    "dmf.priceDB_validation(df_Nasdaq)\n",
    "\n",
    "#Do currency conversion here, we want USD in EUR out\n",
    "df_Nasdaq=dmf.load_curr_csv(df_Nasdaq,\"USD\")\n",
    "\n",
    "#Show us the data\n",
    "df_Nasdaq.tail(5)"
   ]
  },
  {
   "source": [
    "## Demonstrate the generator fuction with info displayed"
   ],
   "cell_type": "markdown",
   "metadata": {}
  },
  {
   "cell_type": "code",
   "execution_count": null,
   "metadata": {},
   "outputs": [],
   "source": [
    "%%time\n",
    "database=df_Nasdaq\n",
    "startdate=pd.to_datetime(\"2009-07-01\")\n",
    "enddate=pd.to_datetime(\"2019-01-01\")\n",
    "dmf.portfolio_generate_test(database,startdate,enddate,p_max=250, min_returns=0.01, s_asset=0, asset_len=150, silent=False, obj_method=\"SHARPE\")"
   ]
  },
  {
   "cell_type": "code",
   "execution_count": null,
   "metadata": {
    "tags": []
   },
   "outputs": [],
   "source": [
    "%%time\n",
    "#set or inputs & create empty lists for output\n",
    "database=df_Nasdaq\n",
    "\n",
    "#vary start date but beware its an N! problem need to speed this up if we can\n",
    "startdate=pd.to_datetime(\"2006-01-01\")\n",
    "enddate=pd.to_datetime(\"2020-01-01\")\n",
    "a_test=[]\n",
    "col_s_assets=[]\n",
    "t_start=startdate\n",
    "t_end=enddate\n",
    "\n",
    "#vary start asset 0 takes the top 50 assets , 50 takes 50-99,.... this is an N problem which isnt too bad\n",
    "l_s_asset=np.arange(0,550,50)\n",
    "\n",
    "\n",
    "# example code that may also work for speeding this up rates_df[curr]=Parallel(n_jobs=-1)(delayed(get_rate)(curr,'EUR', date) for date in dates)\n",
    "# runnings through starting assets, as we create portfolios for only 50 assets at a time (this can be varied)\n",
    "for strt in l_s_asset: \n",
    "    t_start=startdate\n",
    "    t_end=enddate\n",
    "    print('Running for s_asset : '+ str(strt))\n",
    "\n",
    "    # iterates through start dates by adding one month each time until theres 1 year between the start & end date\n",
    "    while t_start + pd.DateOffset(years=1) <= t_end:\n",
    "        try:\n",
    "            a_test.append(dmf.portfolio_generate_test(database,t_start,t_end,s_asset=strt,asset_len=50))\n",
    "            col_s_assets.append(strt)\n",
    "            t_start=t_start + pd.DateOffset(months=1)\n",
    "\n",
    "            #when our start date is 1 year from the end date subtract 1 year from the enddate & reset the start date\n",
    "            if t_start + pd.DateOffset(years=1) == t_end:\n",
    "                t_start=startdate\n",
    "                t_end=t_end - pd.DateOffset(months=1)\n",
    "        except:\n",
    "            t_start=t_start + pd.DateOffset(months=1)\n",
    "\n",
    "            #when our start date is 1 year from the end date subtract 1 year from the enddate & reset the start date\n",
    "            if t_start + pd.DateOffset(years=1) == t_end:\n",
    "                t_start=startdate\n",
    "                t_end=t_end - pd.DateOffset(months=1)\n",
    "\n",
    "#put all this data in a pandas datafame and save it             \n",
    "df_test=pd.DataFrame(a_test,columns=['Start_Date','End_date','Expected_returns','volatility', 'sharpe_ratio','max_returns', 'min_returns', 'actual_returns','mean_returns','objective_summary'])\n",
    "df_test['starting_asset']=col_s_assets\n",
    "df_test.to_csv('Portfolio data/Nasdaq_EF_data.csv')"
   ]
  },
  {
   "source": [
    "## Preview our data , more detailed analysis will be done in a seperate notebook"
   ],
   "cell_type": "markdown",
   "metadata": {}
  },
  {
   "cell_type": "code",
   "execution_count": null,
   "metadata": {},
   "outputs": [],
   "source": [
    "print(\"Actual returns should be >= -1, we have : \"+str(df_test['actual_returns'].min())+str(df_test['min_returns'].min()))\n",
    "df_test.tail(3)"
   ]
  },
  {
   "cell_type": "code",
   "execution_count": null,
   "metadata": {},
   "outputs": [],
   "source": [
    "# Plot expected vs actual scatter\n",
    "import matplotlib.lines as mlines\n",
    "ax1 = df_test.plot.scatter(x='Expected_returns', y='max_returns',alpha=0.5)\n",
    "\n",
    "#set the x=y line\n",
    "line = mlines.Line2D([0, 1], [0, 1], color='red')\n",
    "\n",
    "#draw axis lines\n",
    "plt.axhline(0,color='gray') # x = 0\n",
    "plt.axvline(0,color='gray') # y = 0\n",
    "transform = ax1.transAxes\n",
    "line.set_transform(transform)\n",
    "ax1.add_line(line)\n",
    "ax1.set_xlim([-1, 6])\n",
    "ax1.set_ylim([-1, 6])"
   ]
  },
  {
   "source": [
    "## Do the same for NYSE"
   ],
   "cell_type": "markdown",
   "metadata": {}
  },
  {
   "cell_type": "code",
   "execution_count": null,
   "metadata": {},
   "outputs": [],
   "source": [
    "%%time\n",
    "#Load database\n",
    "df_NYSE=dmf.connectAndLoadDb('NYSE')\n",
    "\n",
    "#Set date as index\n",
    "df_NYSE=df_NYSE.set_index(pd.DatetimeIndex(df_NYSE['Date'].values))\n",
    "df_NYSE.drop(columns=['Date'],axis=1, inplace=True)\n",
    "\n",
    "#Validate the data \n",
    "dmf.priceDB_validation(df_NYSE)\n",
    "\n",
    "#Do currency conversion here, we want USD in EUR out\n",
    "df_NYSE=dmf.load_curr_csv(df_NYSE,\"USD\")\n",
    "\n",
    "#Show us the data\n",
    "df_NYSE.tail(5)"
   ]
  },
  {
   "cell_type": "code",
   "execution_count": null,
   "metadata": {},
   "outputs": [],
   "source": [
    "%%time\n",
    "database=df_NYSE\n",
    "startdate=pd.to_datetime(\"2009-07-01\")\n",
    "enddate=pd.to_datetime(\"2019-01-01\")\n",
    "dmf.portfolio_generate_test(database,startdate,enddate,p_max=250, min_returns=0.01, s_asset=0, asset_len=150, silent=False, obj_method=\"SHARPE\")"
   ]
  },
  {
   "cell_type": "code",
   "execution_count": null,
   "metadata": {},
   "outputs": [],
   "source": [
    "%%time\n",
    "#set or inputs & create empty lists for output\n",
    "database=df_NYSE\n",
    "\n",
    "#vary start date but beware its an N! problem need to speed this up if we can\n",
    "startdate=pd.to_datetime(\"2006-01-01\")\n",
    "enddate=pd.to_datetime(\"2020-01-01\")\n",
    "a_test=[]\n",
    "col_s_assets=[]\n",
    "t_start=startdate\n",
    "t_end=enddate\n",
    "\n",
    "#vary start asset 0 takes the top 50 assets , 50 takes 50-99,.... this is an N problem which isnt too bad\n",
    "l_s_asset=np.arange(0,550,50)\n",
    "\n",
    "\n",
    "# example code that may also work for speeding this up rates_df[curr]=Parallel(n_jobs=-1)(delayed(get_rate)(curr,'EUR', date) for date in dates)\n",
    "# runnings through starting assets, as we create portfolios for only 50 assets at a time (this can be varied)\n",
    "for strt in l_s_asset: \n",
    "    t_start=startdate\n",
    "    t_end=enddate\n",
    "    print('Running for s_asset : '+ str(strt))\n",
    "\n",
    "    # iterates through start dates by adding one month each time until theres 1 year between the start & end date\n",
    "    while t_start + pd.DateOffset(years=1) <= t_end:\n",
    "        try:\n",
    "            a_test.append(dmf.portfolio_generate_test(database,t_start,t_end,s_asset=strt,asset_len=50))\n",
    "            col_s_assets.append(strt)\n",
    "            t_start=t_start + pd.DateOffset(months=1)\n",
    "\n",
    "            #when our start date is 1 year from the end date subtract 1 year from the enddate & reset the start date\n",
    "            if t_start + pd.DateOffset(years=1) == t_end:\n",
    "                t_start=startdate\n",
    "                t_end=t_end - pd.DateOffset(months=1)\n",
    "        except:\n",
    "            t_start=t_start + pd.DateOffset(months=1)\n",
    "\n",
    "            #when our start date is 1 year from the end date subtract 1 year from the enddate & reset the start date\n",
    "            if t_start + pd.DateOffset(years=1) == t_end:\n",
    "                t_start=startdate\n",
    "                t_end=t_end - pd.DateOffset(months=1)\n",
    "\n",
    "#put all this data in a pandas datafame and save it             \n",
    "df_test=pd.DataFrame(a_test,columns=['Start_Date','End_date','Expected_returns','volatility', 'sharpe_ratio','max_returns', 'min_returns', 'actual_returns','mean_returns','objective_summary'])\n",
    "df_test['starting_asset']=col_s_assets\n",
    "df_test.to_csv('Portfolio data/NYSE_EF_data.csv')"
   ]
  },
  {
   "cell_type": "code",
   "execution_count": null,
   "metadata": {},
   "outputs": [],
   "source": [
    "# Plot expected vs actual scatter\n",
    "import matplotlib.lines as mlines\n",
    "ax1 = df_test.plot.scatter(x='Expected_returns', y='max_returns',alpha=0.5)\n",
    "\n",
    "#set the x=y line\n",
    "line = mlines.Line2D([0, 1], [0, 1], color='red')\n",
    "\n",
    "#draw axis lines\n",
    "plt.axhline(0,color='gray') # x = 0\n",
    "plt.axvline(0,color='gray') # y = 0\n",
    "transform = ax1.transAxes\n",
    "line.set_transform(transform)\n",
    "ax1.add_line(line)\n",
    "ax1.set_xlim([-1, 6])\n",
    "ax1.set_ylim([-1, 6])"
   ]
  },
  {
   "cell_type": "code",
   "execution_count": null,
   "metadata": {},
   "outputs": [],
   "source": [
    "df_test.tail()"
   ]
  },
  {
   "cell_type": "code",
   "execution_count": null,
   "metadata": {},
   "outputs": [],
   "source": []
  }
 ],
 "metadata": {
  "kernelspec": {
   "name": "python36664bitcontinuumvirtualenvdc72a350ec374b13b07a552acbe85a4c",
   "display_name": "Python 3.6.6 64-bit ('Continuum': virtualenv)",
   "language": "python"
  },
  "language_info": {
   "codemirror_mode": {
    "name": "ipython",
    "version": 3
   },
   "file_extension": ".py",
   "mimetype": "text/x-python",
   "name": "python",
   "nbconvert_exporter": "python",
   "pygments_lexer": "ipython3",
   "version": "3.6.6"
  }
 },
 "nbformat": 4,
 "nbformat_minor": 4
}