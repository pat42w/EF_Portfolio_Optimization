{
 "cells": [
  {
   "cell_type": "markdown",
   "metadata": {},
   "source": [
    "This code contains the code to create & update closing price data for any index lists in the 'Company lists' folder & our currency forex prices"
   ]
  },
  {
   "cell_type": "code",
   "execution_count": 1,
   "metadata": {},
   "outputs": [],
   "source": [
    "#Import the libraries\n",
    "import pandas as pd\n",
    "import numpy as np\n",
    "import requests\n",
    "import matplotlib.pyplot as plt\n",
    "import yfinance as yf\n",
    "import datetime\n",
    "import math\n",
    "from datetime import timedelta \n",
    "\n",
    "# Importing our Database & data fetching functions \n",
    "import DatabaseMainFnc as dmf"
   ]
  },
  {
   "cell_type": "markdown",
   "metadata": {},
   "source": [
    "## Update data"
   ]
  },
  {
   "cell_type": "code",
   "execution_count": 2,
   "metadata": {
    "scrolled": true,
    "tags": []
   },
   "outputs": [
    {
     "output_type": "stream",
     "name": "stdout",
     "text": [
      "Last entry in Db is of :2006-01-01\n",
      "----------------------------------------------\n",
      "Fetching stock closing price of NASDAQ for days over: 2006-01-02\n",
      "[*********************100%***********************]  4019 of 4019 completed\n",
      "\n",
      "22 Failed downloads:\n",
      "- FSDC: No data found, symbol may be delisted\n",
      "- YRCW: No data found, symbol may be delisted\n",
      "- MCACR: No data found, symbol may be delisted\n",
      "- NGHCO: No data found, symbol may be delisted\n",
      "- CLCT: No data found, symbol may be delisted\n",
      "- INAQW: No data found, symbol may be delisted\n",
      "- HFEN: No data found, symbol may be delisted\n",
      "- NGHCZ: No data found, symbol may be delisted\n",
      "- AMCIW: No data found, symbol may be delisted\n",
      "- VRTU: No data found, symbol may be delisted\n",
      "- TNAV: No data found, symbol may be delisted\n",
      "- CGNTV: No data found, symbol may be delisted\n",
      "- EIGI: No data found, symbol may be delisted\n",
      "- LANDP: No data found, symbol may be delisted\n",
      "- INAQ: No data found, symbol may be delisted\n",
      "- MCACU: No data found, symbol may be delisted\n",
      "- MCAC: No data found, symbol may be delisted\n",
      "- NGHCP: No data found, symbol may be delisted\n",
      "- TTCFW: No data found, symbol may be delisted\n",
      "- AMCIU: No data found, symbol may be delisted\n",
      "- AMCI: No data found, symbol may be delisted\n",
      "- BEAT: No data found, symbol may be delisted\n",
      "----------------------------------------------\n",
      "Data fill completed! 👍👍\n",
      "Writing database to filename: Price Databases\\database_NASDAQ.csv\n",
      "Database updated with new entries!!\n",
      "Last entry in Db is of :2006-01-01\n",
      "----------------------------------------------\n",
      "Fetching stock closing price of NYSE for days over: 2006-01-02\n",
      "[*********************100%***********************]  2588 of 2588 completed\n",
      "\n",
      "8 Failed downloads:\n",
      "- PCPL: No data found, symbol may be delisted\n",
      "- XAN: No data found, symbol may be delisted\n",
      "- WYND: No data found, symbol may be delisted\n",
      "- CEL: No data found, symbol may be delisted\n",
      "- CTRA: No data found, symbol may be delisted\n",
      "- LGVW: No data found, symbol may be delisted\n",
      "- SALT: No data found, symbol may be delisted\n",
      "- CTAA: No data found, symbol may be delisted\n",
      "----------------------------------------------\n",
      "Data fill completed! 👍👍\n",
      "Writing database to filename: Price Databases\\database_NYSE.csv\n",
      "Database updated with new entries!!\n",
      "Wall time: 34min 47s\n"
     ]
    }
   ],
   "source": [
    "%%time\n",
    "start_date='2006-01-01'\n",
    "#Update Closing price data\n",
    "dmf.update_db('NASDAQ',start_date ,refetchAll = True)\n",
    "dmf.update_db('NYSE',start_date, refetchAll = True)"
   ]
  },
  {
   "cell_type": "code",
   "execution_count": 4,
   "metadata": {},
   "outputs": [
    {
     "output_type": "stream",
     "name": "stdout",
     "text": [
      "Fetching Currecy rates from : 2006-01-01\n",
      "For Eur from : ['USD', 'JPY', 'GBP']\n",
      "Generating date list\n",
      "Fetching exchange data for: USD\n",
      "Fetching exchange data for: JPY\n",
      "Fetching exchange data for: GBP\n",
      "Currecy rates updated\n",
      "Writing database to filename: Price Databases\\curr_rates.csv\n",
      "Database updated with new entries!!\n",
      "Wall time: 23min 17s\n"
     ]
    }
   ],
   "source": [
    "%%time\n",
    "#Update currency data\n",
    "dmf.gen_curr_csv(start_date)"
   ]
  },
  {
   "source": [
    "## Update Other index's data\n",
    "- A list of the index's Symbols 'Symbol' & Company names 'Description' must first be stored as a TSV at *EF_Portfolio_Optimisation\\Company lists* called *companylist_**INDEXNAME(in all caps)**.TSV*"
   ],
   "cell_type": "markdown",
   "metadata": {}
  },
  {
   "cell_type": "code",
   "execution_count": null,
   "metadata": {},
   "outputs": [],
   "source": [
    "%%time\n",
    "indexname='INDEXNAME(in all caps)'\n",
    "dmf.update_db(indexname,refetchAll = True)\n"
   ]
  },
  {
   "cell_type": "code",
   "execution_count": null,
   "metadata": {},
   "outputs": [],
   "source": [
    "%%time\n",
    "#preview the new data \n",
    "database=dmf.connectAndLoadDb(indexname)\n",
    "database.tail()"
   ]
  }
 ],
 "metadata": {
  "kernelspec": {
   "display_name": "Python 3.6.6 64-bit ('Continuum': virtualenv)",
   "language": "python",
   "name": "python36664bitcontinuumvirtualenvdc72a350ec374b13b07a552acbe85a4c"
  },
  "language_info": {
   "codemirror_mode": {
    "name": "ipython",
    "version": 3
   },
   "file_extension": ".py",
   "mimetype": "text/x-python",
   "name": "python",
   "nbconvert_exporter": "python",
   "pygments_lexer": "ipython3",
   "version": "3.6.6-final"
  }
 },
 "nbformat": 4,
 "nbformat_minor": 4
}