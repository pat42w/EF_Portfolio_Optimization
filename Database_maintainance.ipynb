{
 "cells": [
  {
   "cell_type": "markdown",
   "metadata": {},
   "source": [
    "This code contains the code to create & update closing price data for any index lists in the 'Company lists' folder "
   ]
  },
  {
   "cell_type": "code",
   "execution_count": 3,
   "metadata": {},
   "outputs": [],
   "source": [
    "#Import the libraries\n",
    "import pandas as pd\n",
    "import numpy as np\n",
    "import requests\n",
    "import matplotlib.pyplot as plt\n",
    "import yfinance as yf\n",
    "import datetime\n",
    "import math\n",
    "from datetime import timedelta \n",
    "\n",
    "# Importing our Database & data fetching functions \n",
    "import DatabaseMainFnc as dmf"
   ]
  },
  {
   "cell_type": "markdown",
   "metadata": {},
   "source": [
    "## Update data"
   ]
  },
  {
   "cell_type": "code",
   "execution_count": 5,
   "metadata": {
    "scrolled": true,
    "tags": []
   },
   "outputs": [
    {
     "output_type": "stream",
     "name": "stdout",
     "text": [
      "Last entry in Db is of :2006-01-01\n",
      "----------------------------------------------\n",
      "Fetching stock closing price of NASDAQ for days over: 2006-01-02\n",
      "[*********************100%***********************]  4019 of 4019 completed\n",
      "----------------------------------------------\n",
      "Data fill completed! 👍👍\n",
      "Writing database to filename: Price Databases\\database_NASDAQ.csv\n",
      "Database updated with new entries!!\n",
      "Wall time: 18min 6s\n"
     ]
    }
   ],
   "source": [
    "%%time\n",
    "dmf.update_db('NASDAQ',refetchAll = True)\n",
    "#dmf.update_db('NYSE',refetchAll = True)"
   ]
  },
  {
   "source": [
    "## Update Other index's data\n",
    "- A list of the index's Symbols 'Symbol' & Company names 'Description' must first be stored as a TSV at *EF_Portfolio_Optimisation\\Company lists* called *companylist_**INDEXNAME(in all caps)**.TSV*"
   ],
   "cell_type": "markdown",
   "metadata": {}
  },
  {
   "cell_type": "code",
   "execution_count": null,
   "metadata": {},
   "outputs": [],
   "source": [
    "%%time\n",
    "indexname='INDEXNAME(in all caps)'\n",
    "dmf.update_db(indexname,refetchAll = True)\n"
   ]
  },
  {
   "cell_type": "code",
   "execution_count": null,
   "metadata": {},
   "outputs": [],
   "source": [
    "%%time\n",
    "#preview the new data \n",
    "database=dmf.connectAndLoadDb(indexname)\n",
    "database.tail()"
   ]
  }
 ],
 "metadata": {
  "kernelspec": {
   "display_name": "Python 3",
   "language": "python",
   "name": "python3"
  },
  "language_info": {
   "codemirror_mode": {
    "name": "ipython",
    "version": 3
   },
   "file_extension": ".py",
   "mimetype": "text/x-python",
   "name": "python",
   "nbconvert_exporter": "python",
   "pygments_lexer": "ipython3",
   "version": "3.6.6-final"
  }
 },
 "nbformat": 4,
 "nbformat_minor": 4
}