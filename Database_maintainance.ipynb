{
 "cells": [
  {
   "cell_type": "markdown",
   "metadata": {},
   "source": [
    "This code contains the code to create & update closing price data for any index lists in the 'Company lists' folder "
   ]
  },
  {
   "cell_type": "code",
   "execution_count": 2,
   "metadata": {},
   "outputs": [],
   "source": [
    "#Import the libraries\n",
    "import pandas as pd\n",
    "import numpy as np\n",
    "import requests\n",
    "import matplotlib.pyplot as plt\n",
    "import yfinance as yf\n",
    "import datetime\n",
    "import math\n",
    "from datetime import timedelta \n",
    "\n",
    "# Importing our Database & data fetching functions \n",
    "import DatabaseMainFnc as dmf"
   ]
  },
  {
   "cell_type": "markdown",
   "metadata": {},
   "source": [
    "## Update data"
   ]
  },
  {
   "cell_type": "code",
   "execution_count": 3,
   "metadata": {
    "scrolled": true,
    "tags": []
   },
   "outputs": [
    {
     "output_type": "stream",
     "name": "stdout",
     "text": [
      "Connecting database:NASDAQ\n",
      "Database connected!\n",
      "Last entry in Db is of :2021-03-04\n",
      "----------------------------------------------\n",
      "Fetching stock closing price of NASDAQ for days over: 2021-03-04\n",
      "[*********************100%***********************]  4227 of 4227 completed\n",
      "\n",
      "31 Failed downloads:\n",
      "- AMCI: No data found for this date range, symbol may be delisted\n",
      "- FSDC: No data found for this date range, symbol may be delisted\n",
      "- MCACU: No data found for this date range, symbol may be delisted\n",
      "- TNAV: No data found for this date range, symbol may be delisted\n",
      "- BEAT: No data found for this date range, symbol may be delisted\n",
      "- AMCIU: No data found for this date range, symbol may be delisted\n",
      "- VRTU: No data found for this date range, symbol may be delisted\n",
      "- INAQ: No data found for this date range, symbol may be delisted\n",
      "- NGHCO: No data found for this date range, symbol may be delisted\n",
      "- CLCT: No data found for this date range, symbol may be delisted\n",
      "- NHLD: No data found for this date range, symbol may be delisted\n",
      "- CBMG: No data found for this date range, symbol may be delisted\n",
      "- MCACR: No data found for this date range, symbol may be delisted\n",
      "- EIGI: No data found for this date range, symbol may be delisted\n",
      "- MRCCL: No data found for this date range, symbol may be delisted\n",
      "- SNSS: No data found for this date range, symbol may be delisted\n",
      "- NEWTI: No data found for this date range, symbol may be delisted\n",
      "- AMCIW: No data found for this date range, symbol may be delisted\n",
      "- TTCFW: No data found for this date range, symbol may be delisted\n",
      "- NHLDW: No data found for this date range, symbol may be delisted\n",
      "- VINCU: No data found for this date range, symbol may be delisted\n",
      "- ZAGG: No data found for this date range, symbol may be delisted\n",
      "- LANDP: No data found for this date range, symbol may be delisted\n",
      "- CPAH: No data found for this date range, symbol may be delisted\n",
      "- NGHCZ: No data found for this date range, symbol may be delisted\n",
      "- HFEN: No data found for this date range, symbol may be delisted\n",
      "- NGHCP: No data found for this date range, symbol may be delisted\n",
      "- ACIA: No data found for this date range, symbol may be delisted\n",
      "- SG: No data found for this date range, symbol may be delisted\n",
      "- INAQU: No data found for this date range, symbol may be delisted\n",
      "- INAQW: No data found for this date range, symbol may be delisted\n",
      "----------------------------------------------\n",
      "Data fill completed! 👍👍\n",
      "Writing database to filename: Price Databases\\database_NASDAQ.csv\n",
      "Database updated with new entries!!\n",
      "Connecting database:NYSE\n",
      "Database connected!\n",
      "Last entry in Db is of :2021-03-04\n",
      "----------------------------------------------\n",
      "Fetching stock closing price of NYSE for days over: 2021-03-04\n",
      "[*************         28%                       ]  930 of 3376 completed"
     ]
    },
    {
     "output_type": "error",
     "ename": "KeyboardInterrupt",
     "evalue": "",
     "traceback": [
      "\u001b[1;31m---------------------------------------------------------------------------\u001b[0m",
      "\u001b[1;31mKeyboardInterrupt\u001b[0m                         Traceback (most recent call last)",
      "\u001b[1;32m<timed exec>\u001b[0m in \u001b[0;36m<module>\u001b[1;34m\u001b[0m\n",
      "\u001b[1;32mc:\\Users\\patri\\OneDrive\\Documents\\GitHub\\EF_Portfolio_Optimization\\DatabaseMainFnc.py\u001b[0m in \u001b[0;36mupdate_db\u001b[1;34m(exchange, refetchAll)\u001b[0m\n\u001b[0;32m     96\u001b[0m         \u001b[1;31m# Load in & Update an existing database\u001b[0m\u001b[1;33m\u001b[0m\u001b[1;33m\u001b[0m\u001b[0m\n\u001b[0;32m     97\u001b[0m         \u001b[0mdatabase\u001b[0m \u001b[1;33m=\u001b[0m \u001b[0mconnectAndLoadDb\u001b[0m\u001b[1;33m(\u001b[0m\u001b[0mexchange\u001b[0m\u001b[1;33m)\u001b[0m\u001b[1;33m\u001b[0m\u001b[0m\n\u001b[1;32m---> 98\u001b[1;33m         \u001b[0mdatabase\u001b[0m \u001b[1;33m=\u001b[0m \u001b[0mfetchData\u001b[0m\u001b[1;33m(\u001b[0m\u001b[0mdatabase\u001b[0m\u001b[1;33m,\u001b[0m\u001b[0mexchange\u001b[0m\u001b[1;33m)\u001b[0m\u001b[1;33m\u001b[0m\u001b[0m\n\u001b[0m\u001b[0;32m     99\u001b[0m \u001b[1;33m\u001b[0m\u001b[0m\n\u001b[0;32m    100\u001b[0m     \u001b[1;31m# Drop the last entry prior to saving as it probably is not a full days data\u001b[0m\u001b[1;33m\u001b[0m\u001b[1;33m\u001b[0m\u001b[0m\n",
      "\u001b[1;32mc:\\Users\\patri\\OneDrive\\Documents\\GitHub\\EF_Portfolio_Optimization\\DatabaseMainFnc.py\u001b[0m in \u001b[0;36mfetchData\u001b[1;34m(database, exchange, refetchAll)\u001b[0m\n\u001b[0;32m     81\u001b[0m         \u001b[0mdateToFetch\u001b[0m \u001b[1;33m=\u001b[0m \u001b[0mlastEntryDate\u001b[0m\u001b[1;33m\u001b[0m\u001b[0m\n\u001b[0;32m     82\u001b[0m \u001b[1;33m\u001b[0m\u001b[0m\n\u001b[1;32m---> 83\u001b[1;33m         \u001b[0mdatabase\u001b[0m \u001b[1;33m=\u001b[0m \u001b[0mfetchAndAppendToDb\u001b[0m\u001b[1;33m(\u001b[0m\u001b[0mdateToFetch\u001b[0m\u001b[1;33m,\u001b[0m \u001b[0mdatabase\u001b[0m\u001b[1;33m,\u001b[0m \u001b[0mexchange\u001b[0m\u001b[1;33m)\u001b[0m\u001b[1;33m\u001b[0m\u001b[0m\n\u001b[0m\u001b[0;32m     84\u001b[0m \u001b[1;33m\u001b[0m\u001b[0m\n\u001b[0;32m     85\u001b[0m         \u001b[0mprint\u001b[0m\u001b[1;33m(\u001b[0m\u001b[1;34m\"----------------------------------------------\"\u001b[0m\u001b[1;33m)\u001b[0m\u001b[1;33m\u001b[0m\u001b[0m\n",
      "\u001b[1;32mc:\\Users\\patri\\OneDrive\\Documents\\GitHub\\EF_Portfolio_Optimization\\DatabaseMainFnc.py\u001b[0m in \u001b[0;36mfetchAndAppendToDb\u001b[1;34m(date, database, exchange)\u001b[0m\n\u001b[0;32m     56\u001b[0m     \u001b[0ml_tickers\u001b[0m\u001b[1;33m=\u001b[0m\u001b[0mgetTickers\u001b[0m\u001b[1;33m(\u001b[0m\u001b[0mexchange\u001b[0m\u001b[1;33m)\u001b[0m\u001b[1;33m\u001b[0m\u001b[0m\n\u001b[0;32m     57\u001b[0m     \u001b[1;31m#Pulling adj closing price data from yfinance\u001b[0m\u001b[1;33m\u001b[0m\u001b[1;33m\u001b[0m\u001b[0m\n\u001b[1;32m---> 58\u001b[1;33m     \u001b[0mmergedData\u001b[0m \u001b[1;33m=\u001b[0m \u001b[0myf\u001b[0m\u001b[1;33m.\u001b[0m\u001b[0mdownload\u001b[0m\u001b[1;33m(\u001b[0m\u001b[0ml_tickers\u001b[0m\u001b[1;33m,\u001b[0m\u001b[0mdate\u001b[0m\u001b[1;33m)\u001b[0m\u001b[1;33m[\u001b[0m\u001b[1;34m'Adj Close'\u001b[0m\u001b[1;33m]\u001b[0m\u001b[1;33m\u001b[0m\u001b[0m\n\u001b[0m\u001b[0;32m     59\u001b[0m \u001b[1;33m\u001b[0m\u001b[0m\n\u001b[0;32m     60\u001b[0m     \u001b[1;31m#Making date the index col\u001b[0m\u001b[1;33m\u001b[0m\u001b[1;33m\u001b[0m\u001b[0m\n",
      "\u001b[1;32m~\\AppData\\Local\\Continuum\\anaconda3\\lib\\site-packages\\yfinance\\multi.py\u001b[0m in \u001b[0;36mdownload\u001b[1;34m(tickers, start, end, actions, threads, group_by, auto_adjust, back_adjust, progress, period, interval, prepost, proxy, rounding, **kwargs)\u001b[0m\n\u001b[0;32m     93\u001b[0m                                    rounding=rounding)\n\u001b[0;32m     94\u001b[0m         \u001b[1;32mwhile\u001b[0m \u001b[0mlen\u001b[0m\u001b[1;33m(\u001b[0m\u001b[0mshared\u001b[0m\u001b[1;33m.\u001b[0m\u001b[0m_DFS\u001b[0m\u001b[1;33m)\u001b[0m \u001b[1;33m<\u001b[0m \u001b[0mlen\u001b[0m\u001b[1;33m(\u001b[0m\u001b[0mtickers\u001b[0m\u001b[1;33m)\u001b[0m\u001b[1;33m:\u001b[0m\u001b[1;33m\u001b[0m\u001b[0m\n\u001b[1;32m---> 95\u001b[1;33m             \u001b[0m_time\u001b[0m\u001b[1;33m.\u001b[0m\u001b[0msleep\u001b[0m\u001b[1;33m(\u001b[0m\u001b[1;36m0.01\u001b[0m\u001b[1;33m)\u001b[0m\u001b[1;33m\u001b[0m\u001b[0m\n\u001b[0m\u001b[0;32m     96\u001b[0m \u001b[1;33m\u001b[0m\u001b[0m\n\u001b[0;32m     97\u001b[0m     \u001b[1;31m# download synchronously\u001b[0m\u001b[1;33m\u001b[0m\u001b[1;33m\u001b[0m\u001b[0m\n",
      "\u001b[1;31mKeyboardInterrupt\u001b[0m: "
     ]
    }
   ],
   "source": [
    "%%time\n",
    "dmf.update_db('NASDAQ',refetchAll = False)\n",
    "dmf.update_db('NYSE',refetchAll = False)"
   ]
  },
  {
   "source": [
    "## Update Other index's data\n",
    "- A list of the index's Symbols 'Symbol' & Company names 'Description' must first be stored as a TSV at *EF_Portfolio_Optimisation\\Company lists* called *companylist_**INDEXNAME(in all caps)**.TSV*"
   ],
   "cell_type": "markdown",
   "metadata": {}
  },
  {
   "cell_type": "code",
   "execution_count": null,
   "metadata": {},
   "outputs": [],
   "source": [
    "%%time\n",
    "indexname='INDEXNAME(in all caps)'\n",
    "dmf.update_db(indexname,refetchAll = True)\n"
   ]
  },
  {
   "cell_type": "code",
   "execution_count": null,
   "metadata": {},
   "outputs": [],
   "source": [
    "%%time\n",
    "#preview the new data \n",
    "database=dmf.connectAndLoadDb(indexname)\n",
    "database.tail()"
   ]
  }
 ],
 "metadata": {
  "kernelspec": {
   "display_name": "Python 3",
   "language": "python",
   "name": "python3"
  },
  "language_info": {
   "codemirror_mode": {
    "name": "ipython",
    "version": 3
   },
   "file_extension": ".py",
   "mimetype": "text/x-python",
   "name": "python",
   "nbconvert_exporter": "python",
   "pygments_lexer": "ipython3",
   "version": "3.6.6-final"
  }
 },
 "nbformat": 4,
 "nbformat_minor": 4
}